{
 "cells": [
  {
   "cell_type": "markdown",
   "metadata": {},
   "source": [
    "## Reporting: wragle_report"
   ]
  },
  {
   "cell_type": "markdown",
   "metadata": {},
   "source": [
    "# Introduction \n",
    "\n",
    "Data wrangling operations were carried out for WeRateDogs tweets.\n",
    "\n",
    "The following wrangling operations were performed:\n",
    "- Data Gathering \n",
    "- Assessing data\n",
    "- Data Cleaning\n",
    "\n",
    "\n",
    "# Data Gathering \n",
    "### step 1:\n",
    "The tweet archive of Twitter user [@dog_rates](https://twitter.com/dog_rates), also known as [WeRateDogs](https://en.wikipedia.org/wiki/WeRateDogs) was manually downloaded from the [link](https://d17h27t6h515a5.cloudfront.net/topher/2017/August/59a4e958_twitter-archive-enhanced/twitter-archive-enhanced.csv).\n",
    "\n",
    "### step 2:\n",
    "Using python request library, another additional dataset which is the `The tweet image predictions` was downloading from the [link](https://d17h27t6h515a5.cloudfront.net/topher/2017/August/599fd2ad_image-predictions/image-predictions.tsv)\n",
    "\n",
    "### step 3:\n",
    "Furthermore, additional records for the archive data was collected using the twitter API calls. The additional data collected was the number of retweets for each tweet in the archive and their number of favorite counts.\n",
    "\n",
    "# Assessing Data\n",
    "Visual assessment and Programmatic assessment was carried out on the dataset gathered.\n",
    "\n",
    "### Visual assessment:\n",
    "For the visual assessment, the three collected data was displayed in jupyter notebook using the sample function to get 10 random rows from the dataset to view for possible errors in the dataset.\n",
    "\n",
    "### Programmatic assessment:\n",
    "For the Programmatic assessment, pandas dataframe function such as `df.info()`, `df.unique()` and `df.value_counts()` were used to assess the gathered data for possible errors in the dataset.\n",
    "\n",
    "### assesment findings:\n",
    "From the Visual assessment and Programmatic assessment carried out, the following data quality and data tidiness issues were discovered:\n",
    "- incorrect records.\n",
    "- missing records .\n",
    "- wrong datatype format.\n",
    "- inadequate descriptive column name.\n",
    "- multple information contained in a single column.\n",
    "\n",
    ">> Quality issues\n",
    "1. Invalid name entry (none, such, a, not, just, my, all, old, the, by)\n",
    "2. Erroneous datatypes (timestamp, in_reply_to_status_id,in_reply_to_user_id, retweeted_status_id, retweeted_status_user_id, retweeted_status_timestamp). These ID fields, like tweet_id, in_reply_to_status_id etc. should be objects, not integers or floats as they are not numeric and not intended for calculations \n",
    "3. Retweets need to be removed as they may otherwise skew the result of your analysis\n",
    "4. missing records in in_reply_to_status_id ,expanded_urls ,in_reply_to_user_id, retweeted_status_id and retweeted_status_timestamp \n",
    "5. None values in doggo', 'floofer', 'pupper' and 'puppo' columns\n",
    "6. source column in `twitter_archive` table should be as source link and source title not combined in source column\n",
    "7. inadequate descriptive column names in `image_pred` table.\n",
    "9. Ratings: The rating_numerator and rating_denominator column should be float and also it should be correctly extracted as some of the ratings were not extracted correctly.\n",
    "9. p1_conf, p2_conf and p3_conf records should be in percentage\n",
    "10. prediction contains underscore characters\n",
    "\n",
    ">>Tidiness issues\n",
    "1. text column in `twitter_archive` table should be splitted into about and link, removing rating\n",
    "2. `tweet_stat` table should be merged into `twitter_archive` table to make the records unified for analysis \n",
    "\n",
    "# Clean Data\n",
    "To address the data quality and tidiness issues identified, the following were carried out to clean the dataset:\n",
    "- Dropped all rows with dog name starting with lowercase using islower string function\n",
    "- Drop all rows where retweeted_status_id or retweeted_status_id or retweeted_status_id is not null\n",
    "- convert timestamp and retweeted_status_timestamp from string format to Datetime.\n",
    "- convert tweet_id, in_reply_to_status_id,in_reply_to_user_id, retweeted_status_id and retweeted_status_user_id to object(String) format\n",
    "- Drop the following columns in_reply_to_status_id, in_reply_to_user_id, retweeted_status_id and retweeted_status_timestamp columns using the pandas drop function.\n",
    "- Drop doggo', 'floofer', 'pupper' and 'puppo' columns as values as None and would not be needed for this analysis questions\n",
    "- Multiply p1_conf, p2_conf and p3_conf by 100 to convert to percentage\n",
    "- removed \"_\" characters in prediction name using replace function\n",
    "- extracted the rating values from the text column.\n",
    "- extracted link from text column in twitter_archive table using regular expressions and pandas' str.extract method. rename text column when done.\n",
    "- splited source into source URL and Source title using beautiful soup. Drop source colum after the split\n",
    "- Added descriptive column names in image_pred table.\n",
    "- Changed p1 to prediction_1, p2 to prediction_2, and p3 to prediction_3\n",
    "- Changed p1_conf to prediction1_confidence(%), p2_conf to prediction2_confidence(%), and p3_conf to prediction3_confidence(%)\n",
    "- changed p1_dog to prediction1_dog_type, p2_dog to prediction2_dog_type and p3_dog to prediction3_dog_type\n",
    "- Merged the retweet_count and favorite_count column to the twitter archive table, joining on tweet_id.\n",
    "\n",
    "# Storing and Anaylsis\n",
    "The cleaned data was stored as csv files and exploratory analysis performed on the cleaned dataset for insight.\n"
   ]
  },
  {
   "cell_type": "code",
   "execution_count": null,
   "metadata": {},
   "outputs": [],
   "source": []
  }
 ],
 "metadata": {
  "kernelspec": {
   "display_name": "Python 3",
   "language": "python",
   "name": "python3"
  },
  "language_info": {
   "codemirror_mode": {
    "name": "ipython",
    "version": 3
   },
   "file_extension": ".py",
   "mimetype": "text/x-python",
   "name": "python",
   "nbconvert_exporter": "python",
   "pygments_lexer": "ipython3",
   "version": "3.7.6"
  }
 },
 "nbformat": 4,
 "nbformat_minor": 2
}
