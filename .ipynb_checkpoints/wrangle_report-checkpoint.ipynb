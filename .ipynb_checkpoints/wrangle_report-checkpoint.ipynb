{
 "cells": [
  {
   "cell_type": "markdown",
   "metadata": {},
   "source": [
    "## Reporting: wragle_report"
   ]
  },
  {
   "cell_type": "markdown",
   "metadata": {},
   "source": [
    "# Introduction \n",
    "\n",
    "Data wrangling operations were carried out for WeRateDogs tweets.\n",
    "\n",
    "The following wrangling operations were performed:\n",
    "- Data Gathering \n",
    "- Assessing data\n",
    "- Data Cleaning\n",
    "\n",
    "\n",
    "# Data Gathering \n",
    "### step 1:\n",
    "The tweet archive of Twitter user [@dog_rates](https://twitter.com/dog_rates), also known as [WeRateDogs](https://en.wikipedia.org/wiki/WeRateDogs) was manually downloaded from the [link](https://d17h27t6h515a5.cloudfront.net/topher/2017/August/59a4e958_twitter-archive-enhanced/twitter-archive-enhanced.csv).\n",
    "\n",
    "### step 2:\n",
    "Using python request library, another additional dataset which is the `The tweet image predictions` was downloading from the [link](https://d17h27t6h515a5.cloudfront.net/topher/2017/August/599fd2ad_image-predictions/image-predictions.tsv)\n",
    "\n",
    "### step 3:\n",
    "Furthermore, additional records for the archive data was collected using the twitter API calls. The additional data collected was the number of retweets for each tweet in the archive and their number of favorite counts.\n",
    "\n",
    "# Assessing Data\n",
    "Visual assessment and Programmatic assessment was carried out on the dataset gathered.\n",
    "\n",
    "### Visual assessment:\n",
    "For the visual assessment, the three collected data was displayed in jupyter notebook using the sample function to get 10 random rows from the dataset to view for possible errors in the dataset.\n",
    "\n",
    "### Programmatic assessment:\n",
    "For the Programmatic assessment, pandas dataframe function such as `df.info()`, `df.unique()` and `df.value_counts()` were used to assess the gathered data for possible errors in the dataset.\n",
    "\n",
    "### assesment findings:\n",
    "From the Visual assessment and Programmatic assessment carried out, the following data quality and data tidiness issues were discovered:\n",
    "- incorrect records.\n",
    "- missing records .\n",
    "- wrong datatype format.\n",
    "- inadequate descriptive column name.\n",
    "- multple information contained in a single column.\n",
    "\n",
    ">> Quality issues\n",
    "- rating_denominator is 0 for some records\n",
    "- rating_denominator is less than 10 for some records\n",
    "- invalid names (none, such, a, not, just, my, all, old, the, by)\n",
    "- Erroneous datatypes (timestamp, in_reply_to_status_id,in_reply_to_user_id, retweeted_status_id, retweeted_status_user_id, retweeted_status_timestamp)\n",
    "- missing records in in_reply_to_status_id (78 instead of 2356)\n",
    "- missing records in in_reply_to_user_id (78 instead of 2356)\n",
    "- missing records in retweeted_status_id (181 instead of 2356)\n",
    "- missing records in retweeted_status_timestamp (181 instead of 2356)\n",
    "- missing records in expanded_urls (2297 instead of 2356)\n",
    "- None values in doggo', 'floofer', 'pupper' and 'puppo' columns\n",
    "- p1_conf, p2_conf and p3_conf records should be in percentage\n",
    "- prediction contains underscore characters\n",
    "\n",
    ">>Tidiness issues\n",
    "- text column in twitter_archive table should be splitted into about and link, removing rating\n",
    "- source column in twitter_archive table should be as source link and source title not combined in source column\n",
    "- inadequate descriptive column names in image_pred table.\n",
    "- tweet_stat table should be merged into twitter_archive table to make the records unified for analysis\n",
    "\n",
    "# Clean Data\n",
    "To address the data quality and tidiness issues identified, the following were carried out to clean the dataset:\n",
    "- Added 10 to all the rating denominator with values less than 10.\n",
    "- Replaced all rows having any following (none, such, a, not, just, my, all, old, the, by) as name with empty strings using the string replace function.\n",
    "- convert timestamp and retweeted_status_timestamp from string format to Datetime.\n",
    "- convert in_reply_to_status_id,in_reply_to_user_id, retweeted_status_id and retweeted_status_user_id from float format to int.\n",
    "- Dropped columns not needed using the pandas drop function\n",
    "- removed wrong characters in prediction name from the predicition table.\n",
    "- renamed undiscriptive column headers.\n",
    "- combines tables where needed using pandas merge function.\n",
    "\n",
    "# Storing and Anaylsis\n",
    "The cleaned data was stored as csv files and exploratory analysis performed on the cleaned dataset for insight.\n"
   ]
  },
  {
   "cell_type": "code",
   "execution_count": null,
   "metadata": {},
   "outputs": [],
   "source": []
  }
 ],
 "metadata": {
  "kernelspec": {
   "display_name": "Python 3",
   "language": "python",
   "name": "python3"
  },
  "language_info": {
   "codemirror_mode": {
    "name": "ipython",
    "version": 3
   },
   "file_extension": ".py",
   "mimetype": "text/x-python",
   "name": "python",
   "nbconvert_exporter": "python",
   "pygments_lexer": "ipython3",
   "version": "3.7.6"
  }
 },
 "nbformat": 4,
 "nbformat_minor": 2
}
